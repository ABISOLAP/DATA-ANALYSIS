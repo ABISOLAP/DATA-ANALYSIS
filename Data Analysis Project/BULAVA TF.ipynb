{
 "cells": [
  {
   "cell_type": "code",
   "execution_count": 3,
   "metadata": {},
   "outputs": [],
   "source": [
    "#Import Libraries\n",
    "import pandas as pd\n",
    "import numpy as np\n",
    "import matplotlib.pyplot as plt\n",
    "#import plotly.express as px"
   ]
  },
  {
   "cell_type": "code",
   "execution_count": 5,
   "metadata": {},
   "outputs": [],
   "source": [
    "df =pd.read_csv(\"c:/datasets/BulavaDataset.csv\")"
   ]
  },
  {
   "cell_type": "code",
   "execution_count": 6,
   "metadata": {},
   "outputs": [
    {
     "data": {
      "text/html": [
       "<div>\n",
       "<style scoped>\n",
       "    .dataframe tbody tr th:only-of-type {\n",
       "        vertical-align: middle;\n",
       "    }\n",
       "\n",
       "    .dataframe tbody tr th {\n",
       "        vertical-align: top;\n",
       "    }\n",
       "\n",
       "    .dataframe thead th {\n",
       "        text-align: right;\n",
       "    }\n",
       "</style>\n",
       "<table border=\"1\" class=\"dataframe\">\n",
       "  <thead>\n",
       "    <tr style=\"text-align: right;\">\n",
       "      <th></th>\n",
       "      <th>Region</th>\n",
       "      <th>Country</th>\n",
       "      <th>Item Type</th>\n",
       "      <th>Sales Channel</th>\n",
       "      <th>Order Priority</th>\n",
       "      <th>Order Date</th>\n",
       "      <th>Order ID</th>\n",
       "      <th>Ship Date</th>\n",
       "      <th>Units Sold</th>\n",
       "      <th>Unit Price</th>\n",
       "      <th>Unit Cost</th>\n",
       "      <th>Total Revenue</th>\n",
       "      <th>Total Cost</th>\n",
       "      <th>Total Profit</th>\n",
       "    </tr>\n",
       "  </thead>\n",
       "  <tbody>\n",
       "    <tr>\n",
       "      <td>0</td>\n",
       "      <td>Sub-Saharan Africa</td>\n",
       "      <td>South Africa</td>\n",
       "      <td>Fruits</td>\n",
       "      <td>Offline</td>\n",
       "      <td>M</td>\n",
       "      <td>7/27/2012</td>\n",
       "      <td>443368995</td>\n",
       "      <td>7/28/2012</td>\n",
       "      <td>1593</td>\n",
       "      <td>9.33</td>\n",
       "      <td>6.92</td>\n",
       "      <td>14862.69</td>\n",
       "      <td>11023.56</td>\n",
       "      <td>3839.13</td>\n",
       "    </tr>\n",
       "    <tr>\n",
       "      <td>1</td>\n",
       "      <td>Middle East and North Africa</td>\n",
       "      <td>Morocco</td>\n",
       "      <td>Clothes</td>\n",
       "      <td>Online</td>\n",
       "      <td>M</td>\n",
       "      <td>9/14/2013</td>\n",
       "      <td>667593514</td>\n",
       "      <td>10/19/2013</td>\n",
       "      <td>4611</td>\n",
       "      <td>109.28</td>\n",
       "      <td>35.84</td>\n",
       "      <td>503890.08</td>\n",
       "      <td>165258.24</td>\n",
       "      <td>338631.84</td>\n",
       "    </tr>\n",
       "    <tr>\n",
       "      <td>2</td>\n",
       "      <td>Australia and Oceania</td>\n",
       "      <td>Papua New Guinea</td>\n",
       "      <td>Meat</td>\n",
       "      <td>Offline</td>\n",
       "      <td>M</td>\n",
       "      <td>5/15/2015</td>\n",
       "      <td>940995585</td>\n",
       "      <td>06/04/2015</td>\n",
       "      <td>360</td>\n",
       "      <td>421.89</td>\n",
       "      <td>364.69</td>\n",
       "      <td>151880.40</td>\n",
       "      <td>131288.40</td>\n",
       "      <td>20592.00</td>\n",
       "    </tr>\n",
       "    <tr>\n",
       "      <td>3</td>\n",
       "      <td>Sub-Saharan Africa</td>\n",
       "      <td>Djibouti</td>\n",
       "      <td>Clothes</td>\n",
       "      <td>Offline</td>\n",
       "      <td>H</td>\n",
       "      <td>5/17/2017</td>\n",
       "      <td>880811536</td>\n",
       "      <td>07/02/2017</td>\n",
       "      <td>562</td>\n",
       "      <td>109.28</td>\n",
       "      <td>35.84</td>\n",
       "      <td>61415.36</td>\n",
       "      <td>20142.08</td>\n",
       "      <td>41273.28</td>\n",
       "    </tr>\n",
       "    <tr>\n",
       "      <td>4</td>\n",
       "      <td>Europe</td>\n",
       "      <td>Slovakia</td>\n",
       "      <td>Beverages</td>\n",
       "      <td>Offline</td>\n",
       "      <td>L</td>\n",
       "      <td>10/26/2016</td>\n",
       "      <td>174590194</td>\n",
       "      <td>12/04/2016</td>\n",
       "      <td>3973</td>\n",
       "      <td>47.45</td>\n",
       "      <td>31.79</td>\n",
       "      <td>188518.85</td>\n",
       "      <td>126301.67</td>\n",
       "      <td>62217.18</td>\n",
       "    </tr>\n",
       "    <tr>\n",
       "      <td>...</td>\n",
       "      <td>...</td>\n",
       "      <td>...</td>\n",
       "      <td>...</td>\n",
       "      <td>...</td>\n",
       "      <td>...</td>\n",
       "      <td>...</td>\n",
       "      <td>...</td>\n",
       "      <td>...</td>\n",
       "      <td>...</td>\n",
       "      <td>...</td>\n",
       "      <td>...</td>\n",
       "      <td>...</td>\n",
       "      <td>...</td>\n",
       "      <td>...</td>\n",
       "    </tr>\n",
       "    <tr>\n",
       "      <td>499995</td>\n",
       "      <td>Asia</td>\n",
       "      <td>Myanmar</td>\n",
       "      <td>Fruits</td>\n",
       "      <td>Offline</td>\n",
       "      <td>L</td>\n",
       "      <td>1/16/2015</td>\n",
       "      <td>134026181</td>\n",
       "      <td>2/18/2015</td>\n",
       "      <td>180</td>\n",
       "      <td>9.33</td>\n",
       "      <td>6.92</td>\n",
       "      <td>1679.40</td>\n",
       "      <td>1245.60</td>\n",
       "      <td>433.80</td>\n",
       "    </tr>\n",
       "    <tr>\n",
       "      <td>499996</td>\n",
       "      <td>Australia and Oceania</td>\n",
       "      <td>New Zealand</td>\n",
       "      <td>Office Supplies</td>\n",
       "      <td>Online</td>\n",
       "      <td>H</td>\n",
       "      <td>1/22/2011</td>\n",
       "      <td>987753570</td>\n",
       "      <td>02/01/2011</td>\n",
       "      <td>7086</td>\n",
       "      <td>651.21</td>\n",
       "      <td>524.96</td>\n",
       "      <td>4614474.06</td>\n",
       "      <td>3719866.56</td>\n",
       "      <td>894607.50</td>\n",
       "    </tr>\n",
       "    <tr>\n",
       "      <td>499997</td>\n",
       "      <td>Europe</td>\n",
       "      <td>Lithuania</td>\n",
       "      <td>Snacks</td>\n",
       "      <td>Online</td>\n",
       "      <td>C</td>\n",
       "      <td>1/25/2017</td>\n",
       "      <td>766976869</td>\n",
       "      <td>1/26/2017</td>\n",
       "      <td>4354</td>\n",
       "      <td>152.58</td>\n",
       "      <td>97.44</td>\n",
       "      <td>664333.32</td>\n",
       "      <td>424253.76</td>\n",
       "      <td>240079.56</td>\n",
       "    </tr>\n",
       "    <tr>\n",
       "      <td>499998</td>\n",
       "      <td>Asia</td>\n",
       "      <td>Malaysia</td>\n",
       "      <td>Beverages</td>\n",
       "      <td>Offline</td>\n",
       "      <td>H</td>\n",
       "      <td>3/13/2016</td>\n",
       "      <td>537369906</td>\n",
       "      <td>3/18/2016</td>\n",
       "      <td>8552</td>\n",
       "      <td>47.45</td>\n",
       "      <td>31.79</td>\n",
       "      <td>405792.40</td>\n",
       "      <td>271868.08</td>\n",
       "      <td>133924.32</td>\n",
       "    </tr>\n",
       "    <tr>\n",
       "      <td>499999</td>\n",
       "      <td>Europe</td>\n",
       "      <td>Slovakia</td>\n",
       "      <td>Household</td>\n",
       "      <td>Online</td>\n",
       "      <td>H</td>\n",
       "      <td>5/13/2015</td>\n",
       "      <td>984919011</td>\n",
       "      <td>06/12/2015</td>\n",
       "      <td>8277</td>\n",
       "      <td>668.27</td>\n",
       "      <td>502.54</td>\n",
       "      <td>5531270.79</td>\n",
       "      <td>4159523.58</td>\n",
       "      <td>1371747.21</td>\n",
       "    </tr>\n",
       "  </tbody>\n",
       "</table>\n",
       "<p>500000 rows × 14 columns</p>\n",
       "</div>"
      ],
      "text/plain": [
       "                              Region           Country        Item Type  \\\n",
       "0                 Sub-Saharan Africa      South Africa           Fruits   \n",
       "1       Middle East and North Africa           Morocco          Clothes   \n",
       "2              Australia and Oceania  Papua New Guinea             Meat   \n",
       "3                 Sub-Saharan Africa          Djibouti          Clothes   \n",
       "4                             Europe          Slovakia        Beverages   \n",
       "...                              ...               ...              ...   \n",
       "499995                          Asia           Myanmar           Fruits   \n",
       "499996         Australia and Oceania       New Zealand  Office Supplies   \n",
       "499997                        Europe         Lithuania           Snacks   \n",
       "499998                          Asia          Malaysia        Beverages   \n",
       "499999                        Europe          Slovakia        Household   \n",
       "\n",
       "       Sales Channel Order Priority  Order Date   Order ID   Ship Date  \\\n",
       "0            Offline              M   7/27/2012  443368995   7/28/2012   \n",
       "1             Online              M   9/14/2013  667593514  10/19/2013   \n",
       "2            Offline              M   5/15/2015  940995585  06/04/2015   \n",
       "3            Offline              H   5/17/2017  880811536  07/02/2017   \n",
       "4            Offline              L  10/26/2016  174590194  12/04/2016   \n",
       "...              ...            ...         ...        ...         ...   \n",
       "499995       Offline              L   1/16/2015  134026181   2/18/2015   \n",
       "499996        Online              H   1/22/2011  987753570  02/01/2011   \n",
       "499997        Online              C   1/25/2017  766976869   1/26/2017   \n",
       "499998       Offline              H   3/13/2016  537369906   3/18/2016   \n",
       "499999        Online              H   5/13/2015  984919011  06/12/2015   \n",
       "\n",
       "        Units Sold  Unit Price  Unit Cost  Total Revenue  Total Cost  \\\n",
       "0             1593        9.33       6.92       14862.69    11023.56   \n",
       "1             4611      109.28      35.84      503890.08   165258.24   \n",
       "2              360      421.89     364.69      151880.40   131288.40   \n",
       "3              562      109.28      35.84       61415.36    20142.08   \n",
       "4             3973       47.45      31.79      188518.85   126301.67   \n",
       "...            ...         ...        ...            ...         ...   \n",
       "499995         180        9.33       6.92        1679.40     1245.60   \n",
       "499996        7086      651.21     524.96     4614474.06  3719866.56   \n",
       "499997        4354      152.58      97.44      664333.32   424253.76   \n",
       "499998        8552       47.45      31.79      405792.40   271868.08   \n",
       "499999        8277      668.27     502.54     5531270.79  4159523.58   \n",
       "\n",
       "        Total Profit  \n",
       "0            3839.13  \n",
       "1          338631.84  \n",
       "2           20592.00  \n",
       "3           41273.28  \n",
       "4           62217.18  \n",
       "...              ...  \n",
       "499995        433.80  \n",
       "499996     894607.50  \n",
       "499997     240079.56  \n",
       "499998     133924.32  \n",
       "499999    1371747.21  \n",
       "\n",
       "[500000 rows x 14 columns]"
      ]
     },
     "execution_count": 6,
     "metadata": {},
     "output_type": "execute_result"
    }
   ],
   "source": [
    "df"
   ]
  },
  {
   "cell_type": "code",
   "execution_count": 7,
   "metadata": {},
   "outputs": [
    {
     "data": {
      "text/plain": [
       "(500000, 14)"
      ]
     },
     "execution_count": 7,
     "metadata": {},
     "output_type": "execute_result"
    }
   ],
   "source": [
    "df.shape"
   ]
  },
  {
   "cell_type": "code",
   "execution_count": 9,
   "metadata": {},
   "outputs": [
    {
     "name": "stdout",
     "output_type": "stream",
     "text": [
      "<class 'pandas.core.frame.DataFrame'>\n",
      "RangeIndex: 500000 entries, 0 to 499999\n",
      "Data columns (total 14 columns):\n",
      "Region            500000 non-null object\n",
      "Country           500000 non-null object\n",
      "Item Type         500000 non-null object\n",
      "Sales Channel     500000 non-null object\n",
      "Order Priority    500000 non-null object\n",
      "Order Date        500000 non-null object\n",
      "Order ID          500000 non-null int64\n",
      "Ship Date         500000 non-null object\n",
      "Units Sold        500000 non-null int64\n",
      "Unit Price        500000 non-null float64\n",
      "Unit Cost         500000 non-null float64\n",
      "Total Revenue     500000 non-null float64\n",
      "Total Cost        500000 non-null float64\n",
      "Total Profit      500000 non-null float64\n",
      "dtypes: float64(5), int64(2), object(7)\n",
      "memory usage: 53.4+ MB\n"
     ]
    }
   ],
   "source": [
    "df.info()"
   ]
  },
  {
   "cell_type": "code",
   "execution_count": 10,
   "metadata": {},
   "outputs": [
    {
     "data": {
      "text/html": [
       "<div>\n",
       "<style scoped>\n",
       "    .dataframe tbody tr th:only-of-type {\n",
       "        vertical-align: middle;\n",
       "    }\n",
       "\n",
       "    .dataframe tbody tr th {\n",
       "        vertical-align: top;\n",
       "    }\n",
       "\n",
       "    .dataframe thead th {\n",
       "        text-align: right;\n",
       "    }\n",
       "</style>\n",
       "<table border=\"1\" class=\"dataframe\">\n",
       "  <thead>\n",
       "    <tr style=\"text-align: right;\">\n",
       "      <th></th>\n",
       "      <th>Order ID</th>\n",
       "      <th>Units Sold</th>\n",
       "      <th>Unit Price</th>\n",
       "      <th>Unit Cost</th>\n",
       "      <th>Total Revenue</th>\n",
       "      <th>Total Cost</th>\n",
       "      <th>Total Profit</th>\n",
       "    </tr>\n",
       "  </thead>\n",
       "  <tbody>\n",
       "    <tr>\n",
       "      <td>count</td>\n",
       "      <td>5.000000e+05</td>\n",
       "      <td>500000.000000</td>\n",
       "      <td>500000.000000</td>\n",
       "      <td>500000.000000</td>\n",
       "      <td>5.000000e+05</td>\n",
       "      <td>5.000000e+05</td>\n",
       "      <td>5.000000e+05</td>\n",
       "    </tr>\n",
       "    <tr>\n",
       "      <td>mean</td>\n",
       "      <td>5.501319e+08</td>\n",
       "      <td>4999.136110</td>\n",
       "      <td>266.036748</td>\n",
       "      <td>187.528564</td>\n",
       "      <td>1.330096e+06</td>\n",
       "      <td>9.376163e+05</td>\n",
       "      <td>3.924800e+05</td>\n",
       "    </tr>\n",
       "    <tr>\n",
       "      <td>std</td>\n",
       "      <td>2.599605e+08</td>\n",
       "      <td>2884.023907</td>\n",
       "      <td>216.937600</td>\n",
       "      <td>175.623982</td>\n",
       "      <td>1.468090e+06</td>\n",
       "      <td>1.148684e+06</td>\n",
       "      <td>3.787517e+05</td>\n",
       "    </tr>\n",
       "    <tr>\n",
       "      <td>min</td>\n",
       "      <td>1.000029e+08</td>\n",
       "      <td>1.000000</td>\n",
       "      <td>9.330000</td>\n",
       "      <td>6.920000</td>\n",
       "      <td>9.330000e+00</td>\n",
       "      <td>6.920000e+00</td>\n",
       "      <td>2.410000e+00</td>\n",
       "    </tr>\n",
       "    <tr>\n",
       "      <td>25%</td>\n",
       "      <td>3.251814e+08</td>\n",
       "      <td>2502.000000</td>\n",
       "      <td>81.730000</td>\n",
       "      <td>56.670000</td>\n",
       "      <td>2.783059e+05</td>\n",
       "      <td>1.620597e+05</td>\n",
       "      <td>9.538506e+04</td>\n",
       "    </tr>\n",
       "    <tr>\n",
       "      <td>50%</td>\n",
       "      <td>5.491843e+08</td>\n",
       "      <td>4999.000000</td>\n",
       "      <td>154.060000</td>\n",
       "      <td>97.440000</td>\n",
       "      <td>7.862426e+05</td>\n",
       "      <td>4.677120e+05</td>\n",
       "      <td>2.817492e+05</td>\n",
       "    </tr>\n",
       "    <tr>\n",
       "      <td>75%</td>\n",
       "      <td>7.756291e+08</td>\n",
       "      <td>7497.000000</td>\n",
       "      <td>421.890000</td>\n",
       "      <td>263.330000</td>\n",
       "      <td>1.824236e+06</td>\n",
       "      <td>1.198736e+06</td>\n",
       "      <td>5.653923e+05</td>\n",
       "    </tr>\n",
       "    <tr>\n",
       "      <td>max</td>\n",
       "      <td>9.999995e+08</td>\n",
       "      <td>10000.000000</td>\n",
       "      <td>668.270000</td>\n",
       "      <td>524.960000</td>\n",
       "      <td>6.682700e+06</td>\n",
       "      <td>5.249600e+06</td>\n",
       "      <td>1.738700e+06</td>\n",
       "    </tr>\n",
       "  </tbody>\n",
       "</table>\n",
       "</div>"
      ],
      "text/plain": [
       "           Order ID     Units Sold     Unit Price      Unit Cost  \\\n",
       "count  5.000000e+05  500000.000000  500000.000000  500000.000000   \n",
       "mean   5.501319e+08    4999.136110     266.036748     187.528564   \n",
       "std    2.599605e+08    2884.023907     216.937600     175.623982   \n",
       "min    1.000029e+08       1.000000       9.330000       6.920000   \n",
       "25%    3.251814e+08    2502.000000      81.730000      56.670000   \n",
       "50%    5.491843e+08    4999.000000     154.060000      97.440000   \n",
       "75%    7.756291e+08    7497.000000     421.890000     263.330000   \n",
       "max    9.999995e+08   10000.000000     668.270000     524.960000   \n",
       "\n",
       "       Total Revenue    Total Cost  Total Profit  \n",
       "count   5.000000e+05  5.000000e+05  5.000000e+05  \n",
       "mean    1.330096e+06  9.376163e+05  3.924800e+05  \n",
       "std     1.468090e+06  1.148684e+06  3.787517e+05  \n",
       "min     9.330000e+00  6.920000e+00  2.410000e+00  \n",
       "25%     2.783059e+05  1.620597e+05  9.538506e+04  \n",
       "50%     7.862426e+05  4.677120e+05  2.817492e+05  \n",
       "75%     1.824236e+06  1.198736e+06  5.653923e+05  \n",
       "max     6.682700e+06  5.249600e+06  1.738700e+06  "
      ]
     },
     "execution_count": 10,
     "metadata": {},
     "output_type": "execute_result"
    }
   ],
   "source": [
    "df.describe()"
   ]
  },
  {
   "cell_type": "code",
   "execution_count": 12,
   "metadata": {},
   "outputs": [
    {
     "data": {
      "text/plain": [
       "Sub-Saharan Africa                   130422\n",
       "Europe                               129286\n",
       "Asia                                  72958\n",
       "Middle East and North Africa          62020\n",
       "Central America and the Caribbean     53964\n",
       "Australia and Oceania                 40508\n",
       "North America                         10842\n",
       "Name: Region, dtype: int64"
      ]
     },
     "execution_count": 12,
     "metadata": {},
     "output_type": "execute_result"
    }
   ],
   "source": [
    "df[\"Region\"].value_counts()"
   ]
  },
  {
   "cell_type": "code",
   "execution_count": 15,
   "metadata": {},
   "outputs": [],
   "source": [
    "pre=df.groupby(\"Region\")['Total Profit'].sum().sort_values(ascending=False)"
   ]
  },
  {
   "cell_type": "code",
   "execution_count": 16,
   "metadata": {},
   "outputs": [
    {
     "data": {
      "text/plain": [
       "Region\n",
       "Sub-Saharan Africa                   5.120098e+10\n",
       "Europe                               5.062910e+10\n",
       "Asia                                 2.859312e+10\n",
       "Middle East and North Africa         2.435939e+10\n",
       "Central America and the Caribbean    2.124888e+10\n",
       "Australia and Oceania                1.593599e+10\n",
       "North America                        4.272509e+09\n",
       "Name: Total Profit, dtype: float64"
      ]
     },
     "execution_count": 16,
     "metadata": {},
     "output_type": "execute_result"
    }
   ],
   "source": [
    "pre"
   ]
  },
  {
   "cell_type": "code",
   "execution_count": 19,
   "metadata": {},
   "outputs": [
    {
     "data": {
      "text/plain": [
       "Text(0.5, 1.0, 'Total Profit per region')"
      ]
     },
     "execution_count": 19,
     "metadata": {},
     "output_type": "execute_result"
    },
    {
     "data": {
      "image/png": "[encoded data removed]",
      "text/plain": [
       "<Figure size 432x288 with 1 Axes>"
      ]
     },
     "metadata": {
      "needs_background": "light"
     },
     "output_type": "display_data"
    }
   ],
   "source": [
    "pre.plot(kind='barh')\n",
    "plt.xlabel(\"Region\")\n",
    "plt.ylabel(\"Total Profit\")\n",
    "plt.title(\"Total Profit per region\")\n"
   ]
  },
  {
   "cell_type": "code",
   "execution_count": 43,
   "metadata": {},
   "outputs": [
    {
     "data": {
      "text/plain": [
       "Country\n",
       "Serbia         1.129383e+09\n",
       "Rwanda         1.127033e+09\n",
       "New Zealand    1.112403e+09\n",
       "Samoa          1.112055e+09\n",
       "Lesotho        1.108647e+09\n",
       "Name: Total Profit, dtype: float64"
      ]
     },
     "execution_count": 43,
     "metadata": {},
     "output_type": "execute_result"
    }
   ],
   "source": [
    "\n",
    "countp = df.groupby('Country')['Total Profit'].sum().sort_values(ascending=False).head(5)\n",
    "countp"
   ]
  },
  {
   "cell_type": "code",
   "execution_count": 46,
   "metadata": {},
   "outputs": [],
   "source": [
    "countG = df.groupby('Country')['Total Profit'].sum().sort_values(ascending=False)"
   ]
  },
  {
   "cell_type": "code",
   "execution_count": 49,
   "metadata": {},
   "outputs": [
    {
     "data": {
      "text/plain": [
       "Cape Verde        2840\n",
       "Liberia           2805\n",
       "Guinea            2805\n",
       "Singapore         2804\n",
       "New Zealand       2797\n",
       "                  ... \n",
       "Iran              2616\n",
       "Turkey            2614\n",
       "Luxembourg        2606\n",
       "Germany           2605\n",
       "United Kingdom    2601\n",
       "Name: Country, Length: 185, dtype: int64"
      ]
     },
     "execution_count": 49,
     "metadata": {},
     "output_type": "execute_result"
    }
   ],
   "source": [
    "df['Country'].value_counts()"
   ]
  },
  {
   "cell_type": "code",
   "execution_count": 53,
   "metadata": {},
   "outputs": [
    {
     "data": {
      "text/plain": [
       "Country\n",
       "Serbia                            1.129383e+09\n",
       "Rwanda                            1.127033e+09\n",
       "New Zealand                       1.112403e+09\n",
       "Samoa                             1.112055e+09\n",
       "Lesotho                           1.108647e+09\n",
       "Australia                         1.107141e+09\n",
       "Maldives                          1.106714e+09\n",
       "Namibia                           1.106240e+09\n",
       "Singapore                         1.102431e+09\n",
       "Ukraine                           1.100572e+09\n",
       "Saint Kitts and Nevis             1.096657e+09\n",
       "Federated States of Micronesia    1.096110e+09\n",
       "Egypt                             1.095057e+09\n",
       "China                             1.094581e+09\n",
       "Chad                              1.093316e+09\n",
       "Slovenia                          1.093100e+09\n",
       "Ghana                             1.092949e+09\n",
       "Hungary                           1.092766e+09\n",
       "Malta                             1.092007e+09\n",
       "Jordan                            1.091878e+09\n",
       "Burundi                           1.091322e+09\n",
       "Panama                            1.091259e+09\n",
       "United States of America          1.091186e+09\n",
       "Yemen                             1.090429e+09\n",
       "Cape Verde                        1.090304e+09\n",
       "Guinea                            1.089758e+09\n",
       "Pakistan                          1.089033e+09\n",
       "United Arab Emirates              1.087596e+09\n",
       "Ireland                           1.087525e+09\n",
       "Iraq                              1.086078e+09\n",
       "Honduras                          1.085468e+09\n",
       "Tuvalu                            1.085147e+09\n",
       "Bangladesh                        1.084555e+09\n",
       "Croatia                           1.084326e+09\n",
       "Bahrain                           1.083271e+09\n",
       "Marshall Islands                  1.082857e+09\n",
       "Haiti                             1.082696e+09\n",
       "Greenland                         1.082598e+09\n",
       "Denmark                           1.082598e+09\n",
       "Tanzania                          1.082392e+09\n",
       "San Marino                        1.082287e+09\n",
       "Malaysia                          1.082223e+09\n",
       "Montenegro                        1.080277e+09\n",
       "Tunisia                           1.079212e+09\n",
       "Turkmenistan                      1.079148e+09\n",
       "Cameroon                          1.078895e+09\n",
       "Gabon                             1.078701e+09\n",
       "Saint Lucia                       1.078391e+09\n",
       "Liechtenstein                     1.077633e+09\n",
       "Liberia                           1.076680e+09\n",
       "Name: Total Profit, dtype: float64"
      ]
     },
     "execution_count": 53,
     "metadata": {},
     "output_type": "execute_result"
    }
   ],
   "source": [
    "groupA= countG[0:50]\n",
    "groupA"
   ]
  },
  {
   "cell_type": "code",
   "execution_count": null,
   "metadata": {},
   "outputs": [],
   "source": []
  }
 ],
 "metadata": {
  "kernelspec": {
   "display_name": "Python 3",
   "language": "python",
   "name": "python3"
  },
  "language_info": {
   "codemirror_mode": {
    "name": "ipython",
    "version": 3
   },
   "file_extension": ".py",
   "mimetype": "text/x-python",
   "name": "python",
   "nbconvert_exporter": "python",
   "pygments_lexer": "ipython3",
   "version": "3.7.4"
  }
 },
 "nbformat": 4,
 "nbformat_minor": 2
}
